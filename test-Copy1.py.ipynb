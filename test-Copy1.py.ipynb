{
 "cells": [
  {
   "cell_type": "code",
   "execution_count": 27,
   "metadata": {},
   "outputs": [],
   "source": [
    "import pandas as pd\n",
    "import matplotlib.pyplot as plt\n",
    "import seaborn as sns\n",
    "import numpy as np\n",
    "import io\n",
    "from sklearn.datasets import load_breast_cancer\n",
    "def do_plot():\n",
    "    # Loading\n",
    "    data = load_breast_cancer()\n",
    "    breast_cancer_df = pd.DataFrame(data['data'])\n",
    "#     print(data['data'])\n",
    "    print(breast_cancer_df.columns) #= data['feature_names']\n",
    "#     print(data['feature_names'])\n",
    "#     breast_cancer_df['target'] = data['target']\n",
    "#     print(data['target'])\n",
    "#     breast_cancer_df['diagnosis'] = [data['target_names'][x] for x in data['target']]\n",
    "#     print(data['target_names'])\n",
    "#     print(breast_cancer_df['diagnosis'])\n",
    "#     feature_names = data['feature_names']\n",
    "\n",
    "#     corr = breast_cancer_df[list(feature_names)].corr(method='pearson')\n",
    "\n",
    "#     f, ax = plt.subplots(figsize=(11, 9))\n",
    "#     cmap = sns.diverging_palette(220, 10, as_cmap=True)\n",
    "#     mask = np.zeros_like(corr, dtype=np.bool)\n",
    "#     mask[np.triu_indices_from(mask)] = True\n",
    "\n",
    "#     sns.heatmap(corr, mask=mask, cmap=cmap, vmax=.3, center=0,\n",
    "#                 square=True, linewidths=.5, cbar_kws={\"shrink\": .5})\n",
    "\n",
    "#     # here is the trick save your figure into a bytes object and you can afterwards expose it via flas\n",
    "#     bytes_image = io.BytesIO()\n",
    "#     plt.savefig(bytes_image, format='png')\n",
    "#     bytes_image.seek(0)\n",
    "#     return bytes_image\n"
   ]
  },
  {
   "cell_type": "code",
   "execution_count": 28,
   "metadata": {},
   "outputs": [
    {
     "name": "stdout",
     "output_type": "stream",
     "text": [
      "RangeIndex(start=0, stop=30, step=1)\n"
     ]
    }
   ],
   "source": [
    "do_plot()"
   ]
  },
  {
   "cell_type": "code",
   "execution_count": null,
   "metadata": {},
   "outputs": [],
   "source": []
  }
 ],
 "metadata": {
  "kernelspec": {
   "display_name": "Python 3",
   "language": "python",
   "name": "python3"
  },
  "language_info": {
   "codemirror_mode": {
    "name": "ipython",
    "version": 3
   },
   "file_extension": ".py",
   "mimetype": "text/x-python",
   "name": "python",
   "nbconvert_exporter": "python",
   "pygments_lexer": "ipython3",
   "version": "3.7.1"
  }
 },
 "nbformat": 4,
 "nbformat_minor": 2
}
